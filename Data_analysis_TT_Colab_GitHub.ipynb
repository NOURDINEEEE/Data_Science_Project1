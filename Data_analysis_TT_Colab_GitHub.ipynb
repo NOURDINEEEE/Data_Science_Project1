{
  "nbformat": 4,
  "nbformat_minor": 0,
  "metadata": {
    "colab": {
      "provenance": [],
      "authorship_tag": "ABX9TyNhyCv/kZHuUVBh59jxvf0m",
      "include_colab_link": true
    },
    "kernelspec": {
      "name": "python3",
      "display_name": "Python 3"
    },
    "language_info": {
      "name": "python"
    },
    "accelerator": "GPU",
    "gpuClass": "standard"
  },
  "cells": [
    {
      "cell_type": "markdown",
      "metadata": {
        "id": "view-in-github",
        "colab_type": "text"
      },
      "source": [
        "<a href=\"https://colab.research.google.com/github/NOURDINEEEE/Data_Science_Project1/blob/main/Data_analysis_TT_Colab_GitHub.ipynb\" target=\"_parent\"><img src=\"https://colab.research.google.com/assets/colab-badge.svg\" alt=\"Open In Colab\"/></a>"
      ]
    },
    {
      "cell_type": "markdown",
      "source": [
        "- http://colab.research.google.com/github/googlecolab/colabtools/blob/main will let you browse ``main`` branch of the ``colabtools`` repository within the ``googlecolab`` organization. (don't forget the ``blob`` here!) You can specify any valid branch for any valid repository.\n",
        "http://colab.research.google.com/github/NOURDINEEEE\n",
        "\n",
        "  https://github.com/NOURDINEEEE"
      ],
      "metadata": {
        "id": "i6e1MjHvKqq7"
      }
    },
    {
      "cell_type": "code",
      "source": [
        "x = range(10)\n",
        "x"
      ],
      "metadata": {
        "id": "C-5n3B7sL5k4",
        "colab": {
          "base_uri": "https://localhost:8080/"
        },
        "outputId": "3ba919c4-14c0-42ff-c2f6-fb3c8f9f02ca"
      },
      "execution_count": 1,
      "outputs": [
        {
          "output_type": "execute_result",
          "data": {
            "text/plain": [
              "range(0, 10)"
            ]
          },
          "metadata": {},
          "execution_count": 1
        }
      ]
    },
    {
      "cell_type": "code",
      "source": [
        "Date = \"2023-03-29\" #@param {type:\"date\"}\n",
        "print(Date)"
      ],
      "metadata": {
        "colab": {
          "base_uri": "https://localhost:8080/"
        },
        "id": "aB8-e0zuP4H6",
        "outputId": "f5cc9c55-98a8-441e-9824-46879b67d67a"
      },
      "execution_count": 9,
      "outputs": [
        {
          "output_type": "stream",
          "name": "stdout",
          "text": [
            "2023-03-29\n"
          ]
        }
      ]
    },
    {
      "cell_type": "code",
      "source": [],
      "metadata": {
        "id": "q6EIfIjAQii6"
      },
      "execution_count": null,
      "outputs": []
    },
    {
      "cell_type": "code",
      "source": [
        "STI = 25 #@param {type:\"slider\", min:0, max:100, step:1}\n",
        "print(STI)\n"
      ],
      "metadata": {
        "colab": {
          "base_uri": "https://localhost:8080/"
        },
        "id": "f7RhrM_1QBCe",
        "outputId": "f1c94552-a8c8-42ea-abb3-20a17bb45f0d"
      },
      "execution_count": 8,
      "outputs": [
        {
          "output_type": "stream",
          "name": "stdout",
          "text": [
            "25\n"
          ]
        }
      ]
    },
    {
      "cell_type": "code",
      "source": [],
      "metadata": {
        "id": "aox2Fj2wQgnR"
      },
      "execution_count": null,
      "outputs": []
    },
    {
      "cell_type": "code",
      "source": [],
      "metadata": {
        "id": "eJgp5Y3zQQ-c"
      },
      "execution_count": null,
      "outputs": []
    },
    {
      "cell_type": "markdown",
      "source": [],
      "metadata": {
        "id": "TBLEZlJcKsZD"
      }
    }
  ]
}