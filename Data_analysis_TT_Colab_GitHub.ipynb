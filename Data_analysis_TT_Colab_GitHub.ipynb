{
  "nbformat": 4,
  "nbformat_minor": 0,
  "metadata": {
    "colab": {
      "provenance": [],
      "authorship_tag": "ABX9TyN9WrUX3lb6bk2sQuOuqVb6",
      "include_colab_link": true
    },
    "kernelspec": {
      "name": "python3",
      "display_name": "Python 3"
    },
    "language_info": {
      "name": "python"
    },
    "accelerator": "GPU",
    "gpuClass": "standard"
  },
  "cells": [
    {
      "cell_type": "markdown",
      "metadata": {
        "id": "view-in-github",
        "colab_type": "text"
      },
      "source": [
        "<a href=\"https://colab.research.google.com/github/NOURDINEEEE/Data_Science_Project1/blob/main/Data_analysis_TT_Colab_GitHub.ipynb\" target=\"_parent\"><img src=\"https://colab.research.google.com/assets/colab-badge.svg\" alt=\"Open In Colab\"/></a>"
      ]
    },
    {
      "cell_type": "markdown",
      "source": [
        "- http://colab.research.google.com/github/googlecolab/colabtools/blob/main will let you browse ``main`` branch of the ``colabtools`` repository within the ``googlecolab`` organization. (don't forget the ``blob`` here!) You can specify any valid branch for any valid repository.\n",
        "http://colab.research.google.com/github/NOURDINEEEE\n",
        "\n",
        "  https://github.com/NOURDINEEEE"
      ],
      "metadata": {
        "id": "i6e1MjHvKqq7"
      }
    },
    {
      "cell_type": "code",
      "source": [
        "x = range(10)\n",
        "x"
      ],
      "metadata": {
        "id": "C-5n3B7sL5k4",
        "colab": {
          "base_uri": "https://localhost:8080/"
        },
        "outputId": "3ba919c4-14c0-42ff-c2f6-fb3c8f9f02ca"
      },
      "execution_count": 1,
      "outputs": [
        {
          "output_type": "execute_result",
          "data": {
            "text/plain": [
              "range(0, 10)"
            ]
          },
          "metadata": {},
          "execution_count": 1
        }
      ]
    },
    {
      "cell_type": "markdown",
      "source": [],
      "metadata": {
        "id": "TBLEZlJcKsZD"
      }
    }
  ]
}