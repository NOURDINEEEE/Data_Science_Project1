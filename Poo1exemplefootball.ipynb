{
 "cells": [
  {
   "attachments": {},
   "cell_type": "markdown",
   "metadata": {},
   "source": [
    "Football"
   ]
  },
  {
   "cell_type": "code",
   "execution_count": 76,
   "metadata": {},
   "outputs": [],
   "source": [
    "class Equipe1:\n",
    "    nombre_de_joueurs = 11\n",
    "    list1 = {\"BayernM\", \"BayerL\", \"Arsenal\", \"Mancity\", \"Barcelone\", \"RealM\", \"Naples\", \"Fiorentina\", \"Psg\", \"Lyon\"}\n",
    "    list2 = {\"Bundesliga\", \"Premierleague\", \"Liga\", \"SerieA\", \"Ligue1\"}\n",
    "    tactiques = {\"Attaque\", \"Defense\", \"Equillibré\"}\n",
    "    def __init__(self, nom = \"\", Championnat = \"\"):\n",
    "        self.nom = nom\n",
    "        self.Championnat = Championnat\n",
    "        if self.nom not in self.list1:\n",
    "            print(\"Erreur1\")\n",
    "        else :\n",
    "            print(self.nom)\n",
    "        if self.Championnat not in self.list2:\n",
    "            print(\"Error2\")\n",
    "        else:\n",
    "            print(self.Championnat)\n",
    "    def tactique (self, tact = \"\"):\n",
    "        self.tact = tact\n",
    "        if self.tact not in self.tactiques:\n",
    "            print(\"erreur3\")\n",
    "        else :\n",
    "            print(tact)\n",
    "        pass\n",
    "    def butmarqueDom (self, butm1 = 0):\n",
    "        self.butm1 = butm1\n",
    "        return f\"{self.butm1}\"\n",
    "    def butrecuDom (self, butm2 = 0):\n",
    "        self.butm2 = butm2\n",
    "        return f\"{self.butm2}\"\n",
    "    @classmethod\n",
    "    def Dom_Extt (cls, Dom_Ext = \"Domicile\"):\n",
    "        cls.Dom_Ext = Dom_Ext\n",
    "        return f\"{cls.Dom_Ext}\"\n",
    "    @staticmethod\n",
    "    def Remarque():\n",
    "        print (\"Le favorie de la champions league 2023 est le real madrid\")\n",
    "\n",
    "\n",
    "class Equipe2:\n",
    "    nombre_de_joueurs = 11\n",
    "    list1 = {\"BayernM\", \"BayerL\", \"Arsenal\", \"Mancity\", \"Barcelone\", \"RealM\", \"Naples\", \"Fiorentina\", \"Psg\", \"Lyon\"}\n",
    "    list2 = {\"Bundesliga\", \"Premierleague\", \"Liga\", \"SerieA\", \"Ligue1\"}\n",
    "    tactiques = {\"Attaque\", \"Defense\", \"Equillibré\"}\n",
    "    def __init__(self, nom = \"\", Championnat = \"\"):\n",
    "        self.nom = nom\n",
    "        self.Championnat = Championnat\n",
    "        if self.nom not in self.list1:\n",
    "            print(\"Erreur1\")\n",
    "        else :\n",
    "            print(self.nom)\n",
    "        if self.Championnat not in self.list2:\n",
    "            print(\"Error2\")\n",
    "        else:\n",
    "            print(self.Championnat)\n",
    "    def tactique (self, tact = \"\"):\n",
    "        self.tact = tact\n",
    "        if self.tact not in self.tactiques:\n",
    "            print(\"erreur3\")\n",
    "        else :\n",
    "            print(self.tact)\n",
    "        pass\n",
    "    def butmarqueExt (self, butm2 = 0):\n",
    "        self.butm2 = butm2\n",
    "        return f\"{self.butm2}\"\n",
    "    def butrecuExt (self, butm1 = 0):\n",
    "        self.butm1 = butm1\n",
    "        return f\"{self.butm1}\"\n",
    "    @classmethod\n",
    "    def Dom_Extt (cls, Dom_Ext = \"Exterieur\"):\n",
    "        cls.Dom_Ext = Dom_Ext\n",
    "        return f\"{cls.Dom_Ext}\"\n",
    "    @staticmethod\n",
    "    def Remarque():\n",
    "        print (\"Le favorie de la champions league 2023 est le real madrid\")\n",
    "\n",
    "\n"
   ]
  },
  {
   "cell_type": "code",
   "execution_count": 77,
   "metadata": {},
   "outputs": [],
   "source": [
    "class Match:\n",
    "    Mi_temps = 45\n",
    "    nombre_mitemps = 2\n",
    "    Temps_total = Mi_temps * nombre_mitemps\n",
    "    Equipe1, Equipe2\n",
    "    Equipe1.butmarqueDom = Equipe2.butrecuExt\n",
    "    Equipe2.butmarqueExt = Equipe1.butrecuDom\n",
    "    def __init__(self):\n",
    "        self.Equipe1 = Equipe1\n",
    "        self.Equipe2 = Equipe2\n",
    "        if self.Equipe1.butmarqueDom(self) != self.Equipe2.butrecuExt(self):\n",
    "            print(\"Erreur de but\")\n",
    "        pass\n",
    "    def score (self):\n",
    "        return f\"le score est de {self.Equipe1.butmarqueDom(self)} - {self.Equipe2.butrecuExt(self)}\"\n",
    "    def resultat (self):\n",
    "        if self.Equipe1.butmarqueDom(self) > self.Equipe2.butrecuExt(self):\n",
    "            return f\"L'equipe {self.Equipe1} à gagnée\"\n",
    "        elif self.Equipe1.butmarqueDom(self) == self.Equipe2.butrecuExt(self):\n",
    "            return (\"Match nul\")\n",
    "        else:\n",
    "            return f\"L'equipe {self.Equipe1} à perdue\"\n",
    "\n",
    "\n"
   ]
  },
  {
   "cell_type": "code",
   "execution_count": 78,
   "metadata": {},
   "outputs": [
    {
     "name": "stdout",
     "output_type": "stream",
     "text": [
      "BayernM\n",
      "Bundesliga\n",
      "Attaque\n",
      "Le favorie de la champions league 2023 est le real madrid\n",
      "Lyon\n",
      "Ligue1\n",
      "Equillibré\n",
      "Le favorie de la champions league 2023 est le real madrid\n"
     ]
    },
    {
     "data": {
      "text/plain": [
       "'Exterieur'"
      ]
     },
     "execution_count": 78,
     "metadata": {},
     "output_type": "execute_result"
    }
   ],
   "source": [
    "EQ1 = Equipe1(\"BayernM\", \"Bundesliga\")\n",
    "EQ1.tactique(\"Attaque\")\n",
    "EQ1.Remarque(),\n",
    "\n",
    "EQ1.Dom_Extt(),\n",
    "\n",
    "EQ2 = Equipe2(\"Lyon\", \"Ligue1\")\n",
    "EQ2.tactique(\"Equillibré\")\n",
    "EQ2.Remarque()\n",
    "EQ2.Dom_Extt()\n",
    "\n",
    "\n",
    "\n"
   ]
  },
  {
   "cell_type": "code",
   "execution_count": 79,
   "metadata": {},
   "outputs": [
    {
     "data": {
      "text/plain": [
       "'Match nul'"
      ]
     },
     "execution_count": 79,
     "metadata": {},
     "output_type": "execute_result"
    }
   ],
   "source": [
    "Jeu = Match()\n",
    "EQ1.butmarqueDom(5)\n",
    "Jeu.Equipe1.butmarqueDom(EQ1, 5)\n",
    "Jeu.score()\n",
    "Jeu.resultat()\n"
   ]
  }
 ],
 "metadata": {
  "kernelspec": {
   "display_name": "ml",
   "language": "python",
   "name": "python3"
  },
  "language_info": {
   "codemirror_mode": {
    "name": "ipython",
    "version": 3
   },
   "file_extension": ".py",
   "mimetype": "text/x-python",
   "name": "python",
   "nbconvert_exporter": "python",
   "pygments_lexer": "ipython3",
   "version": "3.10.0"
  },
  "orig_nbformat": 4
 },
 "nbformat": 4,
 "nbformat_minor": 2
}
