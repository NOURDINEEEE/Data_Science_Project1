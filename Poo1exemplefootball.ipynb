{
 "cells": [
  {
   "attachments": {},
   "cell_type": "markdown",
   "metadata": {},
   "source": [
    "Football"
   ]
  },
  {
   "cell_type": "code",
   "execution_count": 1,
   "metadata": {},
   "outputs": [],
   "source": [
    "class Equipe1:\n",
    "    nombre_de_joueurs = 11\n",
    "    list1 = {\"BayernM\", \"BayerL\", \"Arsenal\", \"Mancity\", \"Barcelone\", \"RealM\", \"Naples\", \"Fiorentina\", \"Psg\", \"Lyon\"}\n",
    "    list2 = {\"Bundesliga\", \"Premierleague\", \"Liga\", \"SerieA\", \"Ligue1\"}\n",
    "    tactiques = {\"Attaque\", \"Defense\", \"Equillibré\"}\n",
    "    def __init__(self, nom = \"\", Championnat = \"\") -> str:\n",
    "        self.nom = nom\n",
    "        self.Championnat = Championnat\n",
    "        try:\n",
    "            if self.nom in self.list1 and self.Championnat in self.list2 :\n",
    "                print(f\"{self.nom} dans le championnat de {self.Championnat}\")\n",
    "            else:\n",
    "                raise KeyError\n",
    "        except KeyError:\n",
    "            print(f\"Choisissez une autre grande equipe\")\n",
    "        except:\n",
    "            raise ErreurFootballEquipe()\n",
    "    def tactique (self, tact = \"\") -> str:\n",
    "        self.tact = tact\n",
    "        try:\n",
    "            if self.nom in self.list1 and self.tact in self.tactiques :\n",
    "                print(f\"La tactique de {self.nom} est : {self.tact}\")\n",
    "            else:\n",
    "                raise KeyError\n",
    "        except KeyError:\n",
    "            print(\"Choisissez une autre Equipe ou Tactique\")\n",
    "        except:\n",
    "            raise ErreurFootballTactiques()\n",
    "    def butmarqueDom (self, butm1 = 0) -> int:\n",
    "        self.butm1 = butm1\n",
    "        try:\n",
    "            if self.butm1 > 0 :\n",
    "                pass\n",
    "        except:\n",
    "            raise ErreurFootballBut()\n",
    "    def butrecuDom (self, butm2 = 0) -> int:\n",
    "        self.butm2 = butm2\n",
    "        try:\n",
    "            if self.butm2 > 0 :\n",
    "                pass\n",
    "        except:\n",
    "            raise ErreurFootballBut()\n",
    "    @classmethod\n",
    "    def Dom_Extt (cls, Dom_Ext = \"Domicile\") -> str:\n",
    "        cls.Dom_Ext = Dom_Ext\n",
    "        print(f\"{cls.Dom_Ext}\")\n",
    "    @staticmethod\n",
    "    def Remarque():\n",
    "        print (\"Le favorie de la champions league 2023 est le real madrid\")\n",
    "\n",
    "\n",
    "class Equipe2:\n",
    "    nombre_de_joueurs = 11\n",
    "    list1 = {\"BayernM\", \"BayerL\", \"Arsenal\", \"Mancity\", \"Barcelone\", \"RealM\", \"Naples\", \"Fiorentina\", \"Psg\", \"Lyon\"}\n",
    "    list2 = {\"Bundesliga\", \"Premierleague\", \"Liga\", \"SerieA\", \"Ligue1\"}\n",
    "    tactiques = {\"Attaque\", \"Defense\", \"Equillibré\"}\n",
    "    def __init__(self, nom = \"\", Championnat = \"\") -> str:\n",
    "        self.nom = nom\n",
    "        self.Championnat = Championnat\n",
    "        try:\n",
    "            if self.nom in self.list1 and self.Championnat in self.list2 :\n",
    "                print(f\"{self.nom} dans le championnat de {self.Championnat}\")\n",
    "            else:\n",
    "                raise KeyError\n",
    "        except KeyError:\n",
    "            print(f\"Choisissez une autre grande equipe\")\n",
    "        except:\n",
    "            raise ErreurFootballEquipe()\n",
    "    def tactique (self, tact = \"\") -> int:\n",
    "        self.tact = tact\n",
    "        try:\n",
    "            if self.nom in self.list1 and self.tact in self.tactiques :\n",
    "                print(f\"La tactique de {self.nom} est : {self.tact}\")\n",
    "            else:\n",
    "                raise KeyError\n",
    "        except KeyError:\n",
    "            print(\"Choisissez une autre Equipe ou Tactique\")\n",
    "        except:\n",
    "            raise ErreurFootballTactiques()\n",
    "    def butmarqueExt (self, butm1 = 0) -> int:\n",
    "        self.butm1 = butm1\n",
    "        try:\n",
    "            if self.butm1 > 0 :\n",
    "                pass\n",
    "        except:\n",
    "            raise ErreurFootballBut()\n",
    "    def butrecuExt (self, butm2 = 0) -> int:\n",
    "        self.butm2 = butm2\n",
    "        try:\n",
    "            if self.butm2 > 0 :\n",
    "                pass\n",
    "        except:\n",
    "            raise ErreurFootballBut()\n",
    "    @classmethod\n",
    "    def Dom_Extt (cls, Dom_Ext = \"Exterieur\") -> str:\n",
    "        cls.Dom_Ext = Dom_Ext\n",
    "        print(f\"{cls.Dom_Ext}\")\n",
    "    @staticmethod\n",
    "    def Remarque():\n",
    "        print (\"L'outsider de la champions league 2023 est Manchester City\")\n",
    "\n",
    "class ErreurFootball(Exception):\n",
    "    def __init__(self, *args: object) -> None:\n",
    "        super().__init__(*args)\n",
    "    pass\n",
    "\n",
    "class ErreurFootballBut(ErreurFootball):\n",
    "    def __init__(self, *args: object) -> None:\n",
    "        super().__init__(*args)\n",
    "        print(\"verifier le type des variables but\")\n",
    "\n",
    "class ErreurFootballEquipe(ErreurFootball):\n",
    "    def __init__(self, *args: object) -> None:\n",
    "        super().__init__(*args)\n",
    "        self.Error = KeyError\n",
    "        raise self.Error\n",
    "\n",
    "class ErreurFootballTactiques(ErreurFootball):\n",
    "    def __init__(self, *args: object) -> None:\n",
    "        super().__init__(*args)\n",
    "        raise ErreurFootballTactiques()\n",
    "\n"
   ]
  },
  {
   "cell_type": "code",
   "execution_count": 2,
   "metadata": {},
   "outputs": [],
   "source": [
    "class Match:\n",
    "    Mi_temps = 45\n",
    "    nombre_mitemps = 2\n",
    "    Temps_total = Mi_temps * nombre_mitemps\n",
    "    def __init__(self):\n",
    "        self.equipe1 = Equipe1()\n",
    "        self.equipe2 = Equipe2()\n",
    "        try:\n",
    "            if type(self.equipe1) == type(self.equipe2):\n",
    "                raise AttributeError()\n",
    "            else:\n",
    "                pass\n",
    "        except AttributeError:\n",
    "            print(\"Les 2 equipes proviennent de la même classe\")\n",
    "        except:\n",
    "            raise ErreurFootballEquipe()\n",
    "        try:\n",
    "            if self.equipe1.butmarqueDom() == self.equipe2.butrecuExt() and self.equipe2.butmarqueExt() == self.equipe1.butrecuDom() :\n",
    "                print(\"Le score initiale est valide\")\n",
    "            else:\n",
    "                raise AttributeError()\n",
    "        except AttributeError:\n",
    "            print(f\"Erreur interne\")\n",
    "        except:\n",
    "            raise ErreurFootballBut()\n",
    "    def score (self, g : int, k : int) -> str:\n",
    "        self.equipe11 = Equipe1().butmarqueDom()\n",
    "        self.equipe21 = Equipe2().butmarqueExt()\n",
    "        self.equipe11 = g\n",
    "        self.equipe21 = k\n",
    "        try :\n",
    "            while self.equipe11 == 0 and self.equipe21 == 0 :\n",
    "                self.equipe11 = self.equipe11 + 1\n",
    "                self.equipe21 = self.equipe21 + 2\n",
    "            print(f\"le score est ({int(self.equipe11)}) - ({int(self.equipe21)})\")\n",
    "        except Exception:\n",
    "            raise ErreurFootballBut()\n",
    "    def resultat (self) -> str:\n",
    "        try:\n",
    "            if int(self.equipe11) > int(self.equipe21):\n",
    "                print (f\"L'equipe {str(self.equipe1)} à gagnée\")\n",
    "            elif int(self.equipe11) == int(self.equipe21):\n",
    "                print (\"Match nul\")\n",
    "            else:\n",
    "                print (f\"L'equipe {str(self.equipe1)} à perdue\")\n",
    "        except Exception:\n",
    "            raise ErreurFootballBut()\n",
    "\n",
    "\n",
    "class Matchampionsleague (Match):\n",
    "    def __init__(self):\n",
    "        super().__init_subclass__()\n",
    "        self.ArbitreHautNiveau = True\n",
    "        #self.match = Match(Eq, Eqq) #composition\n",
    "    def VAR (self, a = 0) -> int:\n",
    "        self.x = a\n",
    "        return self.x\n",
    "    def Tx_UVAR(self, a = 0):\n",
    "        self.y = a\n",
    "        return self.y/self.Temps_total\n",
    "    def resultat (self, VAR):\n",
    "        self.VAR = VAR\n",
    "        if VAR > 1 :\n",
    "            return super().resultat()\n",
    "        else:\n",
    "            print(f\"VAR très peu utilisée donc fiabilité du resultat faible\")\n",
    "\n",
    "\n"
   ]
  },
  {
   "cell_type": "code",
   "execution_count": 3,
   "metadata": {},
   "outputs": [
    {
     "name": "stdout",
     "output_type": "stream",
     "text": [
      "BayernM dans le championnat de Bundesliga\n",
      "La tactique de BayernM est : Attaque\n",
      "Le favorie de la champions league 2023 est le real madrid\n",
      "Domicile\n",
      "Lyon dans le championnat de Ligue1\n",
      "La tactique de Lyon est : Equillibré\n",
      "L'outsider de la champions league 2023 est Manchester City\n",
      "Exterieur\n"
     ]
    }
   ],
   "source": [
    "EQ1 = Equipe1(\"BayernM\", \"Bundesliga\")\n",
    "EQ1.tactique(\"Attaque\")\n",
    "EQ1.Remarque(),\n",
    "\n",
    "EQ1.Dom_Extt(),\n",
    "\n",
    "EQ2 = Equipe2(\"Lyon\", \"Ligue1\")\n",
    "EQ2.tactique(\"Equillibré\")\n",
    "EQ2.Remarque()\n",
    "EQ2.Dom_Extt()\n",
    "\n",
    "\n"
   ]
  },
  {
   "cell_type": "code",
   "execution_count": 4,
   "metadata": {},
   "outputs": [
    {
     "name": "stdout",
     "output_type": "stream",
     "text": [
      "RealM dans le championnat de SerieA\n",
      "La tactique de RealM est : Attaque\n",
      "Exterieur\n"
     ]
    }
   ],
   "source": [
    "EQ3 = Equipe2(\"RealM\", \"SerieA\")\n",
    "EQ3.tactique(\"Attaque\")\n",
    "EQ3.Dom_Extt()\n",
    "EQ3.butmarqueExt(5)"
   ]
  },
  {
   "cell_type": "code",
   "execution_count": 5,
   "metadata": {},
   "outputs": [
    {
     "name": "stdout",
     "output_type": "stream",
     "text": [
      "Choisissez une autre grande equipe\n",
      "Choisissez une autre grande equipe\n",
      "Le score initiale est valide\n",
      "Choisissez une autre grande equipe\n",
      "Choisissez une autre grande equipe\n",
      "le score est (0) - (5)\n",
      "L'equipe <__main__.Equipe1 object at 0x00000185450737F0> à perdue\n"
     ]
    }
   ],
   "source": [
    "Jeu = Match()\n",
    "Jeu.score(0,5)\n",
    "Jeu.resultat()"
   ]
  },
  {
   "cell_type": "code",
   "execution_count": 6,
   "metadata": {},
   "outputs": [
    {
     "data": {
      "text/plain": [
       "2"
      ]
     },
     "execution_count": 6,
     "metadata": {},
     "output_type": "execute_result"
    }
   ],
   "source": [
    "Jeu2 = Matchampionsleague()\n",
    "X = Jeu2.VAR(2)\n",
    "X"
   ]
  },
  {
   "cell_type": "code",
   "execution_count": 7,
   "metadata": {},
   "outputs": [
   ],
  },
  {
   "cell_type": "code",
   "execution_count": null,
   "metadata": {},
   "outputs": [],
   "source": []
  }
 ],
 "metadata": {
  "kernelspec": {
   "display_name": "ml",
   "language": "python",
   "name": "python3"
  },
  "language_info": {
   "codemirror_mode": {
    "name": "ipython",
    "version": 3
   },
   "file_extension": ".py",
   "mimetype": "text/x-python",
   "name": "python",
   "nbconvert_exporter": "python",
   "pygments_lexer": "ipython3",
   "version": "3.10.0"
  },
  "orig_nbformat": 4
 },
 "nbformat": 4,
 "nbformat_minor": 2
}
