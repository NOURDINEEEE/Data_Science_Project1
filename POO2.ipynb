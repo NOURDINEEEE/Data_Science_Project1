{
 "cells": [
  {
   "attachments": {},
   "cell_type": "markdown",
   "metadata": {},
   "source": [
    "Heritage"
   ]
  },
  {
   "cell_type": "code",
   "execution_count": 1,
   "metadata": {},
   "outputs": [
    {
     "name": "stdout",
     "output_type": "stream",
     "text": [
      "Alice marche.\n",
      "Bob marche.\n",
      "Carol marche.\n"
     ]
    },
    {
     "ename": "NameError",
     "evalue": "name 'Screwdriver' is not defined",
     "output_type": "error",
     "traceback": [
      "\u001b[1;31m---------------------------------------------------------------------------\u001b[0m",
      "\u001b[1;31mNameError\u001b[0m                                 Traceback (most recent call last)",
      "\u001b[1;32m~\\AppData\\Local\\Temp\\ipykernel_13012\\2533282359.py\u001b[0m in \u001b[0;36m<module>\u001b[1;34m\u001b[0m\n\u001b[0;32m     17\u001b[0m \u001b[1;31m# Ici, nous reprenons nos outils !\u001b[0m\u001b[1;33m\u001b[0m\u001b[1;33m\u001b[0m\u001b[0m\n\u001b[0;32m     18\u001b[0m toolbox = {\n\u001b[1;32m---> 19\u001b[1;33m     \u001b[1;34m\"screwdriver\"\u001b[0m\u001b[1;33m:\u001b[0m \u001b[0mScrewdriver\u001b[0m\u001b[1;33m(\u001b[0m\u001b[1;36m50\u001b[0m\u001b[1;33m)\u001b[0m\u001b[1;33m,\u001b[0m\u001b[1;33m\u001b[0m\u001b[1;33m\u001b[0m\u001b[0m\n\u001b[0m\u001b[0;32m     20\u001b[0m     \u001b[1;34m\"hammer\"\u001b[0m\u001b[1;33m:\u001b[0m \u001b[0mHammer\u001b[0m\u001b[1;33m(\u001b[0m\u001b[1;33m)\u001b[0m\u001b[1;33m,\u001b[0m\u001b[1;33m\u001b[0m\u001b[1;33m\u001b[0m\u001b[0m\n\u001b[0;32m     21\u001b[0m     \u001b[1;34m\"nails\"\u001b[0m\u001b[1;33m:\u001b[0m \u001b[1;33m[\u001b[0m\u001b[0mNail\u001b[0m\u001b[1;33m(\u001b[0m\u001b[1;33m)\u001b[0m\u001b[1;33m,\u001b[0m \u001b[0mNail\u001b[0m\u001b[1;33m(\u001b[0m\u001b[1;33m)\u001b[0m\u001b[1;33m,\u001b[0m \u001b[0mNail\u001b[0m\u001b[1;33m(\u001b[0m\u001b[1;33m)\u001b[0m\u001b[1;33m]\u001b[0m\u001b[1;33m,\u001b[0m\u001b[1;33m\u001b[0m\u001b[1;33m\u001b[0m\u001b[0m\n",
      "\u001b[1;31mNameError\u001b[0m: name 'Screwdriver' is not defined"
     ]
    }
   ],
   "source": [
    "class Person:\n",
    "    \"\"\"Personne.\"\"\"\n",
    "\n",
    "    def __init__(self, name):\n",
    "        \"\"\"Donne un nom.\"\"\"\n",
    "        self.name = name\n",
    "    \n",
    "    def walk(self):\n",
    "        \"\"\"Marche.\"\"\"\n",
    "        print(f\"{self.name} marche.\")\n",
    "\n",
    "\n",
    "volunteers = [Person(\"Alice\"), Person(\"Bob\"), Person(\"Carol\")]\n",
    "for volunteer in volunteers:\n",
    "    volunteer.walk()\n",
    "\n",
    "# Ici, nous reprenons nos outils !\n",
    "toolbox = {\n",
    "    \"screwdriver\": Screwdriver(50),\n",
    "    \"hammer\": Hammer(),\n",
    "    \"nails\": [Nail(), Nail(), Nail()],\n",
    "}"
   ]
  },
  {
   "cell_type": "code",
   "execution_count": 3,
   "metadata": {},
   "outputs": [
    {
     "data": {
      "text/plain": [
       "99"
      ]
     },
     "execution_count": 3,
     "metadata": {},
     "output_type": "execute_result"
    }
   ],
   "source": [
    "from typing import List\n",
    "\n",
    " \n",
    "def highest(numbers: List[int]) -> int:\n",
    "    \"\"\"Typing\"\"\"\n",
    "    max_value = 0\n",
    "    for number in numbers:\n",
    "        if number > max_value:\n",
    "            max_value = number\n",
    "    return max_value\n",
    "\n",
    "highest([4,5,67,1,99])"
   ]
  },
  {
   "cell_type": "code",
   "execution_count": 12,
   "metadata": {},
   "outputs": [
    {
     "name": "stdout",
     "output_type": "stream",
     "text": [
      "Alice marche.\n",
      "Bob marche.\n",
      "Carol marche.\n"
     ]
    }
   ],
   "source": [
    "for volunteer in volunteers:\n",
    "    \"\"\"Programmation défensive\"\"\"\n",
    "    if hasattr(volunteer, \"walk\"):\n",
    "        volunteer.walk()\n",
    "\n",
    "    if not isinstance(volunteer, Person):\n",
    "        print (\"error\")"
   ]
  },
  {
   "cell_type": "code",
   "execution_count": 14,
   "metadata": {},
   "outputs": [],
   "source": [
    "def get_half_even_number(number):\n",
    "    if number % 2 == 0:\n",
    "        return number / 2\n",
    "    else:\n",
    "        message = (\n",
    "        f\"This Function only supports halving even numbers. Received: {number}\"\n",
    "        )\n",
    "        raise Exception(message)"
   ]
  },
  {
   "cell_type": "code",
   "execution_count": 15,
   "metadata": {},
   "outputs": [
    {
     "ename": "Exception",
     "evalue": "This Function only supports halving even numbers. Received: 5",
     "output_type": "error",
     "traceback": [
      "\u001b[1;31m---------------------------------------------------------------------------\u001b[0m",
      "\u001b[1;31mException\u001b[0m                                 Traceback (most recent call last)",
      "\u001b[1;32m~\\AppData\\Local\\Temp\\ipykernel_13012\\4255711292.py\u001b[0m in \u001b[0;36m<module>\u001b[1;34m\u001b[0m\n\u001b[1;32m----> 1\u001b[1;33m \u001b[0mget_half_even_number\u001b[0m\u001b[1;33m(\u001b[0m\u001b[1;36m5\u001b[0m\u001b[1;33m)\u001b[0m\u001b[1;33m\u001b[0m\u001b[1;33m\u001b[0m\u001b[0m\n\u001b[0m",
      "\u001b[1;32m~\\AppData\\Local\\Temp\\ipykernel_13012\\2286232203.py\u001b[0m in \u001b[0;36mget_half_even_number\u001b[1;34m(number)\u001b[0m\n\u001b[0;32m      6\u001b[0m         \u001b[1;34mf\"This Function only supports halving even numbers. Received: {number}\"\u001b[0m\u001b[1;33m\u001b[0m\u001b[1;33m\u001b[0m\u001b[0m\n\u001b[0;32m      7\u001b[0m         )\n\u001b[1;32m----> 8\u001b[1;33m         \u001b[1;32mraise\u001b[0m \u001b[0mException\u001b[0m\u001b[1;33m(\u001b[0m\u001b[0mmessage\u001b[0m\u001b[1;33m)\u001b[0m\u001b[1;33m\u001b[0m\u001b[1;33m\u001b[0m\u001b[0m\n\u001b[0m",
      "\u001b[1;31mException\u001b[0m: This Function only supports halving even numbers. Received: 5"
     ]
    }
   ],
   "source": [
    "get_half_even_number(5)"
   ]
  },
  {
   "cell_type": "code",
   "execution_count": 16,
   "metadata": {},
   "outputs": [],
   "source": [
    "def increase_percent(initial_value, after_value):\n",
    "    try:\n",
    "        return (after_value / initial_value) * 100\n",
    "    except ZeroDivisionError:\n",
    "        return 0\n",
    "    except Exception as error:\n",
    "        print(\"Uh oh, unexpected error occurred!\")\n",
    "        raise error"
   ]
  },
  {
   "cell_type": "code",
   "execution_count": 19,
   "metadata": {},
   "outputs": [
    {
     "ename": "SyntaxError",
     "evalue": "'(' was never closed (1433639335.py, line 9)",
     "output_type": "error",
     "traceback": [
      "\u001b[1;36m  File \u001b[1;32m\"C:\\Users\\NSTV\\AppData\\Local\\Temp\\ipykernel_13012\\1433639335.py\"\u001b[1;36m, line \u001b[1;32m9\u001b[0m\n\u001b[1;33m    raise InvalidAddressException(f\"Adresse invalide: {address}\"\u001b[0m\n\u001b[1;37m                                 ^\u001b[0m\n\u001b[1;31mSyntaxError\u001b[0m\u001b[1;31m:\u001b[0m '(' was never closed\n"
     ]
    }
   ],
   "source": [
    "class InvalidAddressException(Exception):\n",
    "    \"\"\"Gère les exceptions liées aux mauvaises adresses.\"\"\"\n",
    "    pass\n",
    "\n",
    "class OwlContactSystem(ContactSystem):\n",
    "    def __init__(self, address):\n",
    "        if (not validate_address(address)):\n",
    "            raise InvalidAddressException(f\"Adresse invalide: {address}\"\n",
    "        self.address = address"
   ]
  },
  {
   "cell_type": "code",
   "execution_count": 18,
   "metadata": {},
   "outputs": [],
   "source": [
    "class InvalidAddressException(Exception):\n",
    "    \"\"\"Gère les exceptions liées aux mauvaises adresses.\"\"\"\n",
    " \n",
    "    def __init__(self, address, base_message=\"Adresse invalide !\", *args, **kwargs):\n",
    "        \"\"\"Initialise le message.\n",
    "         \n",
    "        \n",
    "        L’utilisation de *args et **kwags permet de prendre un nombre\n",
    "        de paramètres dynamiques.\n",
    "        \"\"\"\n",
    "        msg = f\"{base_message} Adresse: {address}\"\n",
    "        super().__init__(msg, *args, **kwargs)"
   ]
  },
  {
   "cell_type": "code",
   "execution_count": 20,
   "metadata": {},
   "outputs": [],
   "source": [
    "class MyAppException(Exception):\n",
    "    pass\n",
    "\n",
    "\n",
    "class MyAppInvalidAddressException(MyAppException):\n",
    "    pass"
   ]
  },
  {
   "cell_type": "code",
   "execution_count": 21,
   "metadata": {},
   "outputs": [
    {
     "name": "stdout",
     "output_type": "stream",
     "text": [
      "L'exception sur le nom d'utilisateur a été levée.\n",
      "L'exception sur le mot de passe a été levée.\n"
     ]
    }
   ],
   "source": [
    "class User:\n",
    "    \"\"\"Un utilisateur.\"\"\"\n",
    "\n",
    "    def __init__(self, username, password):\n",
    "        \"\"\"Initialise le nom et le mot de passe.\"\"\"\n",
    "        if len(username) < 2:\n",
    "            raise UsernameTooShortException()\n",
    "        if len(password) < 10:\n",
    "            raise PasswordTooShortException()\n",
    "\n",
    "        self.username = username\n",
    "        self.password = password\n",
    "\n",
    "\n",
    "class UsernameTooShortException(Exception):\n",
    "    \"\"\"Erreur sur le nom d'utilisateur.\"\"\"\n",
    "\n",
    "    def __init__(self, msg=\"\", *args, **kwargs):\n",
    "        \"\"\"Init le message.\"\"\"\n",
    "        msg = msg or \"Le nom d'utilisateur est trop court !\"\n",
    "        super().__init__(msg, *args, **kwargs)\n",
    "\n",
    "\n",
    "class PasswordTooShortException(Exception):\n",
    "    \"\"\"Erreur sur le mot de passe.\"\"\"\n",
    "\n",
    "    def __init__(self, msg=\"\", *args, **kwargs):\n",
    "        \"\"\"Init le message.\"\"\"\n",
    "        msg = msg or \"Le mot de passe est trop court !\"\n",
    "        super().__init__(msg, *args, **kwargs)\n",
    "\n",
    "\n",
    "if __name__ == \"__main__\":\n",
    "    user = User(\"John\", \"supersecret\")\n",
    "    try:\n",
    "        user = User(\"t\", \"supersecret\")\n",
    "    except UsernameTooShortException:\n",
    "        print(\"L'exception sur le nom d'utilisateur a été levée.\")\n",
    "\n",
    "    try:\n",
    "        user = User(\"John\", \"t\")\n",
    "    except PasswordTooShortException:\n",
    "        print(\"L'exception sur le mot de passe a été levée.\")"
   ]
  },
  {
   "cell_type": "code",
   "execution_count": 22,
   "metadata": {},
   "outputs": [
    {
     "name": "stdout",
     "output_type": "stream",
     "text": [
      "PersonException caught\n"
     ]
    }
   ],
   "source": [
    "class PersonException(Exception):\n",
    "    pass\n",
    "\n",
    "\n",
    "class InvalidDOBPersonException(PersonException):\n",
    "    pass\n",
    "\n",
    "\n",
    "try:\n",
    "    raise InvalidDOBPersonException(\"Invalid Date of Birth\")\n",
    "except PersonException:\n",
    "    print(\"PersonException caught\")\n",
    "except InvalidDOBPersonException(\"Invalid Date of Birth\"):\n",
    "    print(\"InvalidDOBPersonException caught\")\n",
    "except Exception:\n",
    "    print(\"Exception caught.\")"
   ]
  }
 ],
 "metadata": {
  "kernelspec": {
   "display_name": "ml",
   "language": "python",
   "name": "python3"
  },
  "language_info": {
   "codemirror_mode": {
    "name": "ipython",
    "version": 3
   },
   "file_extension": ".py",
   "mimetype": "text/x-python",
   "name": "python",
   "nbconvert_exporter": "python",
   "pygments_lexer": "ipython3",
   "version": "3.10.0"
  },
  "orig_nbformat": 4
 },
 "nbformat": 4,
 "nbformat_minor": 2
}
