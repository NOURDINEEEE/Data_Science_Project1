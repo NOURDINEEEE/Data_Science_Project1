{
 "cells": [
  {
   "cell_type": "code",
   "execution_count": 34,
   "metadata": {},
   "outputs": [],
   "source": [
    "class Rectangle:\n",
    "    width = 3\n",
    "    height = 2\n",
    "\n",
    "    def calculate_area(self):\n",
    "        return self.width * self.height"
   ]
  },
  {
   "cell_type": "code",
   "execution_count": 36,
   "metadata": {},
   "outputs": [
    {
     "name": "stdout",
     "output_type": "stream",
     "text": [
      "6\n"
     ]
    }
   ],
   "source": [
    "rectangle = Rectangle()\n",
    "area = rectangle.calculate_area()\n",
    "print(area)"
   ]
  },
  {
   "cell_type": "code",
   "execution_count": 21,
   "metadata": {},
   "outputs": [],
   "source": [
    "class Cake:\n",
    "    def __init__(self, flavor):\n",
    "        self.flavor = flavor\n",
    "        \n",
    "    def cut_in_part(self):\n",
    "        print(\"Le gateaux 1 est coupé en 4 parts !\")"
   ]
  },
  {
   "cell_type": "code",
   "execution_count": 37,
   "metadata": {},
   "outputs": [
    {
     "name": "stdout",
     "output_type": "stream",
     "text": [
      "Le gateaux 1 est coupé en 4 parts !\n"
     ]
    }
   ],
   "source": [
    "Cake1 = Cake(\"Orange\")\n",
    "Cake1.cut_in_part()\n",
    "Cake1.flavor = \"banana\""
   ]
  },
  {
   "cell_type": "code",
   "execution_count": 8,
   "metadata": {},
   "outputs": [],
   "source": [
    "class Rectangle:\n",
    "    def __init__(self, length, width, color=\"red\"):\n",
    "        self.length = length\n",
    "        self.width = width\n",
    "        self.color = color"
   ]
  },
  {
   "cell_type": "code",
   "execution_count": 12,
   "metadata": {},
   "outputs": [],
   "source": [
    "class Boite_a_outils:\n",
    "    def __init__(self, tools) -> None:\n",
    "        self.tools = tools\n",
    "        pass\n",
    "    def add_tool(self, tool):\n",
    "        pass\n",
    "    def remove_tool(self, tool):\n",
    "        pass\n"
   ]
  },
  {
   "cell_type": "code",
   "execution_count": 15,
   "metadata": {},
   "outputs": [],
   "source": [
    "class Tournevise:\n",
    "    def __init__(self, size) -> None:\n",
    "        self.size = size\n",
    "        pass\n",
    "    def tighten(self, screw):\n",
    "        pass\n",
    "    def loosen(self, screw):\n",
    "        pass"
   ]
  },
  {
   "cell_type": "code",
   "execution_count": 62,
   "metadata": {},
   "outputs": [],
   "source": [
    "class Marteau:\n",
    "    name = \"rouge\"\n",
    "    def __init__(self, color) -> None:\n",
    "        self.color = color\n",
    "        pass\n",
    "    def paint(self, color):\n",
    "        pass\n",
    "    def hammer_in(self, nail):\n",
    "        pass\n",
    "    @classmethod\n",
    "    def remove(cls, nail):\n",
    "        cls.name = \"bleu\"\n",
    "        pass"
   ]
  },
  {
   "cell_type": "code",
   "execution_count": 65,
   "metadata": {},
   "outputs": [],
   "source": [
    "MarteauRouge = Marteau(color=\"red\")\n",
    "Marteau.name\n",
    "MarteauRouge.hammer_in(2)\n",
    "Marteau.remove(3)\n",
    "MarteauRouge.remove(8)"
   ]
  },
  {
   "cell_type": "code",
   "execution_count": 64,
   "metadata": {},
   "outputs": [
    {
     "name": "stdout",
     "output_type": "stream",
     "text": [
      "Je vole !\n",
      "200\n",
      "266\n"
     ]
    }
   ],
   "source": [
    "class Bird:\n",
    "    \"\"\"Un oiseau. 🐦\"\"\"\n",
    "\n",
    "    name = (\"mouette\", \"pigeon\", \"moineau\")\n",
    "\n",
    "    def __init__(self, wings):\n",
    "        \"\"\"Les attributs définis ici sont des attributs d'instance.\"\"\"\n",
    "        self.wings = wings\n",
    "\n",
    "    def fly(self):\n",
    "        \"\"\"Cette méthode est une méthode d'instance.\"\"\"\n",
    "        print(\"Je vole !\")\n",
    "\n",
    "    @classmethod\n",
    "    def vitesse(cls, vts):\n",
    "        cls.vts = vts\n",
    "        print(vts)\n",
    "\n",
    "bird = Bird(5)  # obligation d'instancier un oiseau pour utiliser ses attributs\n",
    "bird.fly()\n",
    "bird.wings\n",
    "bird.name = \"pigeon\"\n",
    "bird.vitesse(200)\n",
    "bird.name = \"mouette\"\n",
    "bird.vitesse(266)\n"
   ]
  },
  {
   "cell_type": "code",
   "execution_count": 48,
   "metadata": {},
   "outputs": [
    {
     "name": "stdout",
     "output_type": "stream",
     "text": [
      "On a rien trouvé...\n",
      "On a trouvé un mouette !\n"
     ]
    }
   ],
   "source": [
    "class Bird:\n",
    "    \"\"\"Un oiseau. 🐦\"\"\"\n",
    "\n",
    "    # ici on utilise deux attributs de classe.\n",
    "    names = (\"mouette\", \"pigeon\", \"moineau\", \"hirrondelle\")\n",
    "    positions = {}\n",
    "\n",
    "    def __init__(self, name):\n",
    "        \"\"\"Les attributs définis ici sont des attributs d'instance.\"\"\"\n",
    "        self.position = 1, 2\n",
    "        self.name = name\n",
    "        \n",
    "        # On accède à l'attribut de classe \"positions\" avec self (c'est possible).\n",
    "        self.positions[self.position] = self.name\n",
    "\n",
    "    @classmethod\n",
    "    def find_bird(cls, position):\n",
    "        \"\"\"Retrouve un oiseau selon la position donnée.\"\"\"\n",
    "        if position in cls.positions:\n",
    "            return f\"On a trouvé un {cls.positions[position]} !\"\n",
    "\n",
    "        return \"On a rien trouvé...\"\n",
    "\n",
    "\n",
    "# On peut accéder aux variables de classe sans instanciation.\n",
    "Bird.names\n",
    "Bird.positions\n",
    "print(Bird.find_bird((2, 5)))\n",
    "\n",
    "# On instancie un oiseau\n",
    "bird = Bird(\"mouette\")\n",
    "\n",
    "# On le retrouve avec la méthode find_bird.\n",
    "print(Bird.find_bird((1, 2)))"
   ]
  }
 ],
 "metadata": {
  "kernelspec": {
   "display_name": "ml",
   "language": "python",
   "name": "python3"
  },
  "language_info": {
   "codemirror_mode": {
    "name": "ipython",
    "version": 3
   },
   "file_extension": ".py",
   "mimetype": "text/x-python",
   "name": "python",
   "nbconvert_exporter": "python",
   "pygments_lexer": "ipython3",
   "version": "3.10.0"
  },
  "orig_nbformat": 4
 },
 "nbformat": 4,
 "nbformat_minor": 2
}
