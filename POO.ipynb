{
 "cells": [
  {
   "cell_type": "code",
   "execution_count": 34,
   "metadata": {},
   "outputs": [],
   "source": [
    "class Rectangle:\n",
    "    width = 3\n",
    "    height = 2\n",
    "\n",
    "    def calculate_area(self):\n",
    "        return self.width * self.height"
   ]
  },
  {
   "cell_type": "code",
   "execution_count": 36,
   "metadata": {},
   "outputs": [
    {
     "name": "stdout",
     "output_type": "stream",
     "text": [
      "6\n"
     ]
    }
   ],
   "source": [
    "rectangle = Rectangle()\n",
    "area = rectangle.calculate_area()\n",
    "print(area)"
   ]
  },
  {
   "cell_type": "code",
   "execution_count": 21,
   "metadata": {},
   "outputs": [],
   "source": [
    "class Cake:\n",
    "    def __init__(self, flavor):\n",
    "        self.flavor = flavor\n",
    "        \n",
    "    def cut_in_part(self):\n",
    "        print(\"Le gateaux 1 est coupé en 4 parts !\")"
   ]
  },
  {
   "cell_type": "code",
   "execution_count": 37,
   "metadata": {},
   "outputs": [
    {
     "name": "stdout",
     "output_type": "stream",
     "text": [
      "Le gateaux 1 est coupé en 4 parts !\n"
     ]
    }
   ],
   "source": [
    "Cake1 = Cake(\"Orange\")\n",
    "Cake1.cut_in_part()\n",
    "Cake1.flavor = \"banana\""
   ]
  },
  {
   "cell_type": "code",
   "execution_count": 8,
   "metadata": {},
   "outputs": [],
   "source": [
    "class Rectangle:\n",
    "    def __init__(self, length, width, color=\"red\"):\n",
    "        self.length = length\n",
    "        self.width = width\n",
    "        self.color = color"
   ]
  },
  {
   "cell_type": "code",
   "execution_count": 12,
   "metadata": {},
   "outputs": [],
   "source": [
    "class Boite_a_outils:\n",
    "    def __init__(self, tools) -> None:\n",
    "        self.tools = tools\n",
    "        pass\n",
    "    def add_tool(self, tool):\n",
    "        pass\n",
    "    def remove_tool(self, tool):\n",
    "        pass\n"
   ]
  },
  {
   "cell_type": "code",
   "execution_count": 15,
   "metadata": {},
   "outputs": [],
   "source": [
    "class Tournevise:\n",
    "    def __init__(self, size) -> None:\n",
    "        self.size = size\n",
    "        pass\n",
    "    def tighten(self, screw):\n",
    "        pass\n",
    "    def loosen(self, screw):\n",
    "        pass"
   ]
  },
  {
   "cell_type": "code",
   "execution_count": 69,
   "metadata": {},
   "outputs": [],
   "source": [
    "class Marteau:\n",
    "    name = \"rouge\"\n",
    "    def __init__(self, color) -> None:\n",
    "        self.color = color\n",
    "        pass\n",
    "    def paint(self, color):\n",
    "        pass\n",
    "    def hammer_in(self, nail):\n",
    "        pass\n",
    "    @classmethod\n",
    "    def remove(cls, nail):\n",
    "        cls.name = \"bleu\"\n",
    "        pass\n",
    "    @staticmethod\n",
    "    def definition():\n",
    "        return 2"
   ]
  },
  {
   "cell_type": "code",
   "execution_count": 65,
   "metadata": {},
   "outputs": [],
   "source": [
    "MarteauRouge = Marteau(color=\"red\")\n",
    "Marteau.name\n",
    "MarteauRouge.hammer_in(2)\n",
    "Marteau.remove(3)\n",
    "MarteauRouge.remove(8)"
   ]
  },
  {
   "cell_type": "code",
   "execution_count": 64,
   "metadata": {},
   "outputs": [
    {
     "name": "stdout",
     "output_type": "stream",
     "text": [
      "Je vole !\n",
      "200\n",
      "266\n"
     ]
    }
   ],
   "source": [
    "class Bird:\n",
    "    \"\"\"Un oiseau. 🐦\"\"\"\n",
    "\n",
    "    name = (\"mouette\", \"pigeon\", \"moineau\")\n",
    "\n",
    "    def __init__(self, wings):\n",
    "        \"\"\"Les attributs définis ici sont des attributs d'instance.\"\"\"\n",
    "        self.wings = wings\n",
    "\n",
    "    def fly(self):\n",
    "        \"\"\"Cette méthode est une méthode d'instance.\"\"\"\n",
    "        print(\"Je vole !\")\n",
    "\n",
    "    @classmethod\n",
    "    def vitesse(cls, vts):\n",
    "        cls.vts = vts\n",
    "        print(vts)\n",
    "\n",
    "bird = Bird(5)  # obligation d'instancier un oiseau pour utiliser ses attributs\n",
    "bird.fly()\n",
    "bird.wings\n",
    "bird.name = \"pigeon\"\n",
    "bird.vitesse(200)\n",
    "bird.name = \"mouette\"\n",
    "bird.vitesse(266)\n"
   ]
  },
  {
   "cell_type": "code",
   "execution_count": 48,
   "metadata": {},
   "outputs": [
    {
     "name": "stdout",
     "output_type": "stream",
     "text": [
      "On a rien trouvé...\n",
      "On a trouvé un mouette !\n"
     ]
    }
   ],
   "source": [
    "class Bird:\n",
    "    \"\"\"Un oiseau. 🐦\"\"\"\n",
    "\n",
    "    # ici on utilise deux attributs de classe.\n",
    "    names = (\"mouette\", \"pigeon\", \"moineau\", \"hirrondelle\")\n",
    "    positions = {}\n",
    "\n",
    "    def __init__(self, name):\n",
    "        \"\"\"Les attributs définis ici sont des attributs d'instance.\"\"\"\n",
    "        self.position = 1, 2\n",
    "        self.name = name\n",
    "        \n",
    "        # On accède à l'attribut de classe \"positions\" avec self (c'est possible).\n",
    "        self.positions[self.position] = self.name\n",
    "\n",
    "    @classmethod\n",
    "    def find_bird(cls, position):\n",
    "        \"\"\"Retrouve un oiseau selon la position donnée.\"\"\"\n",
    "        if position in cls.positions:\n",
    "            return f\"On a trouvé un {cls.positions[position]} !\"\n",
    "\n",
    "        return \"On a rien trouvé...\"\n",
    "\n",
    "\n",
    "# On peut accéder aux variables de classe sans instanciation.\n",
    "Bird.names\n",
    "Bird.positions\n",
    "print(Bird.find_bird((2, 5)))\n",
    "\n",
    "# On instancie un oiseau\n",
    "bird = Bird(\"mouette\")\n",
    "\n",
    "# On le retrouve avec la méthode find_bird.\n",
    "print(Bird.find_bird((1, 2)))"
   ]
  },
  {
   "cell_type": "code",
   "execution_count": 68,
   "metadata": {},
   "outputs": [
    {
     "name": "stdout",
     "output_type": "stream",
     "text": [
      "Animal (vertébré à sang chaud) au corps recouvert de plumes, dont les membres antérieurs sont des ailes et qui a un bec.\n"
     ]
    }
   ],
   "source": [
    "class Bird:\n",
    "    \"\"\"Un oiseau. 🐦\"\"\"\n",
    "\n",
    "    @staticmethod\n",
    "    def get_definition():\n",
    "        \"\"\"Donne la définition d'un oiseau.\"\"\"\n",
    "        return (\n",
    "        \"Animal (vertébré à sang chaud) au corps recouvert de plumes, \"\n",
    "        \"dont les membres antérieurs sont des ailes et qui a un bec.\"\n",
    "        )\n",
    "\n",
    "print(Bird.get_definition())"
   ]
  },
  {
   "cell_type": "code",
   "execution_count": 73,
   "metadata": {},
   "outputs": [],
   "source": [
    "class ToolBox:\n",
    "    \"\"\"Boite à outils.\"\"\"\n",
    "\n",
    "    def __init__(self):\n",
    "        \"\"\"Initialise les outils.\"\"\"\n",
    "        self.tools = []\n",
    "\n",
    "    def add_tool(self, tool):\n",
    "        \"\"\"Ajoute un outil.\"\"\"\n",
    "        self.tools.append(tool)\n",
    "\n",
    "    def remove_tool(self, tool):\n",
    "        \"\"\"Enleve un outil.\"\"\"\n",
    "        index = self.tools.index(tool)\n",
    "        del self.tools[index]\n",
    "\n",
    " \n",
    "\n",
    "class Screwdriver:\n",
    "    \"\"\"Tournevis.\"\"\"\n",
    "\n",
    "    def __init__(self, size=3):\n",
    "        \"\"\"Initialise la taille.\"\"\"\n",
    "        self.size = size\n",
    "    \n",
    "    def tighten(self, screw):\n",
    "        \"\"\"Serrer une vis.\"\"\"\n",
    "        screw.tighten()\n",
    "    \n",
    "    def loosen(self, screw):\n",
    "        \"\"\"Desserre une vis.\"\"\"\n",
    "        screw.loosen()\n",
    "    \n",
    "    def __repr__(self):\n",
    "        \"\"\"Représentation de l'objet.\"\"\"\n",
    "        return f\"Tournevis de taille {self.size}\"\n",
    "\n",
    "\n",
    "class Hammer:\n",
    "    \"\"\"Marteau.\"\"\"\n",
    "\n",
    "    def __init__(self, color=\"red\"):\n",
    "        \"\"\"Initialise la couleur.\"\"\"\n",
    "        self.color = color\n",
    "    \n",
    "    def paint(self, color):\n",
    "        \"\"\"Paint le marteau.\"\"\"\n",
    "        self.color = color\n",
    "    \n",
    "    def hammer_in(self, nail):\n",
    "        \"\"\"Enfonce un clou.\"\"\"\n",
    "        nail.nail_in()\n",
    "    \n",
    "    def remove(self, nail):\n",
    "        \"\"\"Enleve un clou.\"\"\"\n",
    "        nail.remove()\n",
    "    \n",
    "    def __repr__(self):\n",
    "        \"\"\"Représentation de l'objet.\"\"\"\n",
    "        return f\"Marteau de couleur {self.color}\"\n",
    "\n",
    "\n",
    "class Screw:\n",
    "    \"\"\"Vis.\"\"\"\n",
    "     \n",
    "    MAX_TIGHTNESS = 5\n",
    "    \n",
    "    def __init__(self):\n",
    "        \"\"\"Initialise son degré de serrage.\"\"\"\n",
    "        self.tightness = 0\n",
    "    \n",
    "    def loosen(self):\n",
    "        \"\"\"Déserre le vis.\"\"\"\n",
    "        if self.tightness > 0:\n",
    "            self.tightness -= 1\n",
    "    \n",
    "    def tighten(self):\n",
    "        \"\"\"Serre le vis.\"\"\"\n",
    "        if self.tightness < self.MAX_TIGHTNESS:\n",
    "            self.tightness += 1\n",
    "    \n",
    "    def __str__(self):\n",
    "        \"\"\"Retourne une forme lisible de l'objet.\"\"\"\n",
    "        return \"Vis avec un serrage de {}\".format(self.tightness)\n",
    "\n",
    "\n",
    "class Nail:\n",
    "    \"\"\"Clou.\"\"\"\n",
    "    \n",
    "    def __init__(self):\n",
    "        \"\"\"Initialise son statut \"dans le mur\".\"\"\"\n",
    "        self.in_wall = False\n",
    "    \n",
    "    def nail_in(self):\n",
    "        \"\"\"Enfonce le clou dans un mur.\"\"\"\n",
    "        if not self.in_wall:\n",
    "            self.in_wall = True\n",
    "    \n",
    "    def remove(self):\n",
    "        \"\"\"Enlève le clou du mur.\"\"\"\n",
    "        if self.in_wall:\n",
    "            self.in_wall = False\n",
    "    \n",
    "    def __str__(self):\n",
    "        \"\"\"Retourne une forme lisible de l'objet.\"\"\"\n",
    "        wall_state = \"dans le mur\" if self.in_wall else \"hors du mur\"\n",
    "        return f\"Clou {wall_state}.\""
   ]
  },
  {
   "cell_type": "code",
   "execution_count": 79,
   "metadata": {},
   "outputs": [],
   "source": [
    "ToolBox1 = ToolBox()\n",
    "Tournevise1 = Screwdriver()\n",
    "Marteau1 = Hammer()\n",
    "\n"
   ]
  },
  {
   "cell_type": "code",
   "execution_count": 90,
   "metadata": {},
   "outputs": [
    {
     "name": "stdout",
     "output_type": "stream",
     "text": [
      "<__main__.ToolBox object at 0x0000023A9C74C580>\n"
     ]
    }
   ],
   "source": [
    "ToolBox1.add_tool(Tournevise1)\n",
    "ToolBox1.add_tool(Marteau1)\n",
    "print(ToolBox1)"
   ]
  },
  {
   "cell_type": "code",
   "execution_count": 126,
   "metadata": {},
   "outputs": [
    {
     "data": {
      "text/plain": [
       "[Tournevis de taille 3,\n",
       " Marteau de couleur red,\n",
       " Tournevis de taille 3,\n",
       " <__main__.Screw at 0x23a9c74d1b0>,\n",
       " Tournevis de taille 3,\n",
       " Marteau de couleur red]"
      ]
     },
     "execution_count": 126,
     "metadata": {},
     "output_type": "execute_result"
    }
   ],
   "source": [
    "ToolBox1.tools"
   ]
  },
  {
   "cell_type": "code",
   "execution_count": 92,
   "metadata": {},
   "outputs": [
    {
     "name": "stdout",
     "output_type": "stream",
     "text": [
      "Vis avec un serrage de 0\n",
      "Vis avec un serrage de 1\n"
     ]
    }
   ],
   "source": [
    "Screw1 = Screw()\n",
    "Screwdriver1 = Screwdriver()\n",
    "print(Screw1)\n",
    "Screwdriver1.tighten(Screw1)\n",
    "print(Screw1)"
   ]
  },
  {
   "cell_type": "code",
   "execution_count": 119,
   "metadata": {},
   "outputs": [
    {
     "name": "stdout",
     "output_type": "stream",
     "text": [
      "Clou hors du mur.\n",
      "Clou dans le mur.\n"
     ]
    }
   ],
   "source": [
    "Hammer1 = Hammer()\n",
    "Nail1 = Nail()\n",
    "print(Nail1)\n",
    "Hammer1.hammer_in(Nail1)\n",
    "print(Nail1)\n",
    "\n"
   ]
  },
  {
   "cell_type": "code",
   "execution_count": null,
   "metadata": {},
   "outputs": [],
   "source": []
  }
 ],
 "metadata": {
  "kernelspec": {
   "display_name": "ml",
   "language": "python",
   "name": "python3"
  },
  "language_info": {
   "codemirror_mode": {
    "name": "ipython",
    "version": 3
   },
   "file_extension": ".py",
   "mimetype": "text/x-python",
   "name": "python",
   "nbconvert_exporter": "python",
   "pygments_lexer": "ipython3",
   "version": "3.10.0"
  },
  "orig_nbformat": 4
 },
 "nbformat": 4,
 "nbformat_minor": 2
}
